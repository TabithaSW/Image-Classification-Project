{
 "cells": [
  {
   "cell_type": "code",
   "execution_count": 33,
   "id": "666992a2",
   "metadata": {},
   "outputs": [],
   "source": [
    "import os\n",
    "import cv2\n",
    "\n",
    "TRAINING_PATH = \"../fruits-360/fruits-360/Training\"\n",
    "VALIDATION_PATH = \"../fruits-360/fruits-360/Validation\"\n",
    "\n",
    "# Read in all the images and return features and labels\n",
    "def data_reader(category_path):\n",
    "    x = []\n",
    "    y = []\n",
    "    categories = os.listdir(category_path)\n",
    "    for idx, category in enumerate(categories):\n",
    "        image_path = os.path.join(category_path, category)\n",
    "        images = os.listdir(image_path)\n",
    "        for image in images:\n",
    "            file_path = os.path.join(image_path, image)\n",
    "            image_array = cv2.imread(file_path, cv2.IMREAD_GRAYSCALE)\n",
    "            x.append(image_array)\n",
    "            y.append(idx)\n",
    "    return x, y    \n",
    "    \n",
    "x_train, y_train = data_reader(TRAINING_PATH)  \n",
    "x_test, y_test = data_reader(VALIDATION_PATH)"
   ]
  },
  {
   "cell_type": "code",
   "execution_count": 32,
   "id": "8c5fb6e4",
   "metadata": {},
   "outputs": [
    {
     "data": {
      "text/plain": [
       "11804"
      ]
     },
     "execution_count": 32,
     "metadata": {},
     "output_type": "execute_result"
    }
   ],
   "source": []
  },
  {
   "cell_type": "code",
   "execution_count": null,
   "id": "922d432a",
   "metadata": {},
   "outputs": [],
   "source": []
  }
 ],
 "metadata": {
  "kernelspec": {
   "display_name": "Python 3 (ipykernel)",
   "language": "python",
   "name": "python3"
  },
  "language_info": {
   "codemirror_mode": {
    "name": "ipython",
    "version": 3
   },
   "file_extension": ".py",
   "mimetype": "text/x-python",
   "name": "python",
   "nbconvert_exporter": "python",
   "pygments_lexer": "ipython3",
   "version": "3.9.7"
  }
 },
 "nbformat": 4,
 "nbformat_minor": 5
}
