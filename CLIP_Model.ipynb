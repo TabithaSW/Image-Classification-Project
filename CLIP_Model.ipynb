{
 "cells": [
  {
   "cell_type": "markdown",
   "id": "901f1bb9",
   "metadata": {},
   "source": [
    "# **CLIP MODEL** "
   ]
  },
  {
   "cell_type": "code",
   "execution_count": 160,
   "id": "55bae583",
   "metadata": {},
   "outputs": [],
   "source": [
    "import transformers\n",
    "import datasets\n",
    "import numpy as np\n",
    "import pandas as pd\n",
    "import torch\n",
    "import pathlib\n",
    "from PIL import Image\n",
    "import requests\n",
    "import os\n",
    "from matplotlib.pylab import plt\n",
    "import tensorflow as tf\n",
    "\n",
    "from transformers import CLIPTokenizerFast, CLIPProcessor, CLIPModel"
   ]
  },
  {
   "cell_type": "markdown",
   "id": "dbde8f29",
   "metadata": {},
   "source": [
    "## CREATE THE MODEL"
   ]
  },
  {
   "cell_type": "code",
   "execution_count": 161,
   "id": "3a1af651",
   "metadata": {},
   "outputs": [],
   "source": [
    "image_dir = './fruits-360/fruits-360_dataset/fruits-360/Validation/'\n",
    "\n",
    "device = \"cuda\" if torch.cuda.is_available() else \"cpu\"\n",
    "model_id = \"openai/clip-vit-base-patch32\"\n",
    "\n",
    "tokenizer = CLIPTokenizerFast.from_pretrained(model_id)\n",
    "processor = CLIPProcessor.from_pretrained(model_id)\n",
    "model = CLIPModel.from_pretrained(model_id).to(device)"
   ]
  },
  {
   "cell_type": "markdown",
   "id": "7e649c26",
   "metadata": {},
   "source": [
    "# SETUP IMAGE INFORMATION"
   ]
  },
  {
   "cell_type": "code",
   "execution_count": 162,
   "id": "e643ea34",
   "metadata": {},
   "outputs": [],
   "source": [
    "image_info = {}\n",
    "image_names = []\n",
    "categories = os.listdir(image_dir)\n",
    "for idx, category in enumerate(categories):\n",
    "    image_path = os.path.join(image_dir, category)\n",
    "    images = os.listdir(image_path)\n",
    "    # SELECT ONLY 10 IMAGES FOR EACH FRUIT TYPE TO SEE RESULTS QUICKLY\n",
    "    for image in images[:10]:\n",
    "        file_path = os.path.join(image_path, image)\n",
    "        image_names.append(category + ' image')\n",
    "        if not category in image_info:\n",
    "            image_info[category] = []\n",
    "        image_info[category].append(file_path)       "
   ]
  },
  {
   "cell_type": "markdown",
   "id": "9049daf9",
   "metadata": {},
   "source": [
    "## RUN THE MODEL"
   ]
  },
  {
   "cell_type": "code",
   "execution_count": 163,
   "id": "38a4a775",
   "metadata": {},
   "outputs": [],
   "source": [
    "true_proba = []\n",
    "predicted = []\n",
    "\n",
    "for image_name, image_paths in image_info.items():\n",
    "    images = []\n",
    "    for image_path in image_paths:\n",
    "        images.append(Image.open(image_path))\n",
    "    text_prompts = ['A photo of a ' + image_name, ' A photo of a ' + 'Jackfruit']\n",
    "    inputs = processor(text=text_prompts, images=images, return_tensors=\"pt\", padding=True)\n",
    "    outputs = model(**inputs)\n",
    "    logits_per_image = outputs.logits_per_image \n",
    "    probs = logits_per_image.softmax(dim=1)\n",
    "    for prob in probs:\n",
    "        pred = prob.detach().numpy().argmax()\n",
    "        predicted.append(pred)\n",
    "        true_proba.append(prob[0].item())  "
   ]
  },
  {
   "cell_type": "markdown",
   "id": "1f342f2c",
   "metadata": {},
   "source": [
    "# PLOT THE ACCURACY"
   ]
  },
  {
   "cell_type": "code",
   "execution_count": 164,
   "id": "55d34094",
   "metadata": {},
   "outputs": [
    {
     "data": {
      "image/png": "[encoded data removed]",
      "text/plain": [
       "<Figure size 432x288 with 1 Axes>"
      ]
     },
     "metadata": {
      "needs_background": "light"
     },
     "output_type": "display_data"
    }
   ],
   "source": [
    "epochs = range(0,len(true_proba))\n",
    "plt.plot(epochs, true_proba, 'b', label='Test Accuracy')\n",
    "plt.title('Test Accuracy')\n",
    "plt.xlabel('Test Run')\n",
    "plt.ylabel('Test Accuracy')\n",
    "plt.legend()\n",
    "plt.show()"
   ]
  },
  {
   "cell_type": "markdown",
   "id": "1c65a02d",
   "metadata": {},
   "source": [
    "# MODEL ACCURACY"
   ]
  },
  {
   "cell_type": "code",
   "execution_count": 165,
   "id": "170ec2dd",
   "metadata": {},
   "outputs": [
    {
     "name": "stdout",
     "output_type": "stream",
     "text": [
      "total accuracy  0.9168386711020555\n"
     ]
    }
   ],
   "source": [
    "print('total accuracy ', sum(true_proba) / len(true_proba))"
   ]
  },
  {
   "cell_type": "markdown",
   "id": "3549f19b",
   "metadata": {},
   "source": [
    "# CONFUSION MATRIX"
   ]
  },
  {
   "cell_type": "code",
   "execution_count": 166,
   "id": "42aa9298",
   "metadata": {},
   "outputs": [
    {
     "name": "stdout",
     "output_type": "stream",
     "text": [
      "tf.Tensor(\n",
      "[[660  40]\n",
      " [  0   0]], shape=(2, 2), dtype=int32)\n"
     ]
    }
   ],
   "source": [
    "labels = len(predicted) * [0]\n",
    "cm = tf.math.confusion_matrix(labels, predicted)\n",
    "print(cm)"
   ]
  }
 ],
 "metadata": {
  "kernelspec": {
   "display_name": "Python 3 (ipykernel)",
   "language": "python",
   "name": "python3"
  },
  "language_info": {
   "codemirror_mode": {
    "name": "ipython",
    "version": 3
   },
   "file_extension": ".py",
   "mimetype": "text/x-python",
   "name": "python",
   "nbconvert_exporter": "python",
   "pygments_lexer": "ipython3",
   "version": "3.9.7"
  }
 },
 "nbformat": 4,
 "nbformat_minor": 5
}
