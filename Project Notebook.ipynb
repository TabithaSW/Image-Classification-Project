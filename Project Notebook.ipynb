{
 "cells": [
  {
   "cell_type": "markdown",
   "id": "827d3751",
   "metadata": {},
   "source": [
    "# Image Classification with TensorFlow\n",
    "## Image Search for Similar Images Project\n",
    "### Team Members: Tabitha Weinbrenner, Nick Wang, Sukruth Rao"
   ]
  },
  {
   "cell_type": "code",
   "execution_count": null,
   "id": "15e8bec0",
   "metadata": {},
   "outputs": [],
   "source": []
  }
 ],
 "metadata": {
  "kernelspec": {
   "display_name": "Python 3",
   "language": "python",
   "name": "python3"
  },
  "language_info": {
   "codemirror_mode": {
    "name": "ipython",
    "version": 3
   },
   "file_extension": ".py",
   "mimetype": "text/x-python",
   "name": "python",
   "nbconvert_exporter": "python",
   "pygments_lexer": "ipython3",
   "version": "3.8.8"
  }
 },
 "nbformat": 4,
 "nbformat_minor": 5
}
